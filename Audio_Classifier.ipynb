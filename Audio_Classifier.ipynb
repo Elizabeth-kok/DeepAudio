{
 "cells": [
  {
   "cell_type": "markdown",
   "id": "d9c8018e",
   "metadata": {
    "heading_collapsed": true
   },
   "source": [
    "## Import and Install dependencies"
   ]
  },
  {
   "cell_type": "markdown",
   "id": "d21ab463",
   "metadata": {
    "hidden": true
   },
   "source": [
    "### Install dependencies"
   ]
  },
  {
   "cell_type": "code",
   "execution_count": null,
   "id": "62dbb6ec",
   "metadata": {
    "hidden": true,
    "scrolled": false
   },
   "outputs": [],
   "source": [
    "! pip install -q tensorflow==2.4.1 tensorflow-gpu==2.4.1 tensorflow-io matplotlib"
   ]
  },
  {
   "cell_type": "code",
   "execution_count": null,
   "id": "a318a906",
   "metadata": {
    "hidden": true
   },
   "outputs": [],
   "source": [
    "#Downgrading to tensorflow==2.7.1 and tensorflow-io==0.23.1 resolves NotImplementedError issue for tf.resample\n",
    "! pip install -q tensorflow-io==0.23.1"
   ]
  },
  {
   "cell_type": "markdown",
   "id": "13c9bca4",
   "metadata": {
    "hidden": true
   },
   "source": [
    "### Load dependencies"
   ]
  },
  {
   "cell_type": "code",
   "execution_count": null,
   "id": "d1d8ac88",
   "metadata": {
    "hidden": true
   },
   "outputs": [],
   "source": [
    "import os\n",
    "import matplotlib.pyplot as plt\n",
    "import tensorflow as tf\n",
    "import tensorflow_io as tfio"
   ]
  },
  {
   "cell_type": "markdown",
   "id": "99d0b12f",
   "metadata": {
    "heading_collapsed": true
   },
   "source": [
    "## Build data loading function"
   ]
  },
  {
   "cell_type": "markdown",
   "id": "bc63f7c5",
   "metadata": {
    "hidden": true
   },
   "source": [
    "### Define paths to files"
   ]
  },
  {
   "cell_type": "code",
   "execution_count": null,
   "id": "3eb05710",
   "metadata": {
    "hidden": true
   },
   "outputs": [],
   "source": [
    "capuchin_file=os.path.join(\"data\",\"Parsed_Capuchinbird_Clips\",\"XC114131-0.wav\")\n",
    "not_capuchin_file=os.path.join(\"data\",\"Parsed_Not_Capuchinbird_Clips\",\"afternoon-birds-song-in-forest-0.wav\")"
   ]
  },
  {
   "cell_type": "code",
   "execution_count": null,
   "id": "b33ae946",
   "metadata": {
    "hidden": true
   },
   "outputs": [],
   "source": [
    "capuchin_file"
   ]
  },
  {
   "cell_type": "markdown",
   "id": "a35dcfc6",
   "metadata": {
    "hidden": true
   },
   "source": [
    "### Build dataloading function"
   ]
  },
  {
   "cell_type": "code",
   "execution_count": null,
   "id": "ff34ee75",
   "metadata": {
    "hidden": true
   },
   "outputs": [],
   "source": [
    "# function is from tensorflow documentation \n",
    "# processing the audio file and converting it to 16Hz and output is a single channel\n",
    "def load_wav_16k_mono(filename):\n",
    "    # load filepath in and output is a byte encoded string?\n",
    "    file_contents = tf.io.read_file(filename)\n",
    "    # Decode wav (tensors by channels) \n",
    "    wav, sample_rate = tf.audio.decode_wav(file_contents, desired_channels=1)\n",
    "    # Removes trailing axis \n",
    "    wav = tf.squeeze(wav, axis=-1)\n",
    "    sample_rate = tf.cast(sample_rate, dtype=tf.int64)\n",
    "    # Goes from 44100Hz to 16000hz - amplitude of the audio signal\n",
    "    wav = tfio.audio.resample(wav, rate_in=sample_rate, rate_out=16000)\n",
    "    return wav"
   ]
  },
  {
   "cell_type": "code",
   "execution_count": null,
   "id": "1be031d9",
   "metadata": {
    "hidden": true
   },
   "outputs": [],
   "source": [
    "file_contents = tf.io.read_file(capuchin_file)\n",
    "file_contents"
   ]
  },
  {
   "cell_type": "code",
   "execution_count": null,
   "id": "ce3fae45",
   "metadata": {
    "hidden": true
   },
   "outputs": [],
   "source": [
    "#shape=(120000, 1) 120000 amplitude of the wave\n",
    "wav, sample_rate = tf.audio.decode_wav(file_contents, desired_channels=1)\n",
    "wav "
   ]
  },
  {
   "cell_type": "code",
   "execution_count": null,
   "id": "0a2f915e",
   "metadata": {
    "hidden": true
   },
   "outputs": [],
   "source": [
    "#shape=(120000, 1) to shape=(120000, ) \n",
    "wav = tf.squeeze(wav, axis=-1)\n",
    "wav"
   ]
  },
  {
   "cell_type": "code",
   "execution_count": null,
   "id": "e9149bdb",
   "metadata": {
    "hidden": true
   },
   "outputs": [],
   "source": [
    "# castin sample_rate to integer format\n",
    "# the amplitude/frequency of the wave is 48000Hz\n",
    "sample_rate = tf.cast(sample_rate, dtype=tf.int64)\n",
    "sample_rate # 48000Hz"
   ]
  },
  {
   "cell_type": "code",
   "execution_count": null,
   "id": "e75ee31f",
   "metadata": {
    "hidden": true,
    "scrolled": true
   },
   "outputs": [],
   "source": [
    "# resample it from 48000Hz to 16000Hz\n",
    "# to reduce the size of our final audio\n",
    "# size of the wave went from 120000 to 4444 \n",
    "wav = tfio.audio.resample(wav, rate_in=sample_rate, rate_out=16000)\n",
    "wav"
   ]
  },
  {
   "cell_type": "code",
   "execution_count": null,
   "id": "0fefec13",
   "metadata": {
    "hidden": true
   },
   "outputs": [],
   "source": [
    "len(wav)"
   ]
  },
  {
   "cell_type": "markdown",
   "id": "bc76d250",
   "metadata": {
    "hidden": true
   },
   "source": [
    "### Plot wave"
   ]
  },
  {
   "cell_type": "code",
   "execution_count": null,
   "id": "ad4e21bc",
   "metadata": {
    "hidden": true
   },
   "outputs": [],
   "source": [
    "wave=load_wav_16k_mono(capuchin_file)\n",
    "nwave=load_wav_16k_mono(not_capuchin_file)"
   ]
  },
  {
   "cell_type": "code",
   "execution_count": null,
   "id": "40463f06",
   "metadata": {
    "hidden": true
   },
   "outputs": [],
   "source": [
    "plt.plot(wave,label=\"wave\")\n",
    "plt.plot(nwave,label=\"nwave\")\n",
    "plt.legend()\n",
    "plt.show"
   ]
  },
  {
   "cell_type": "markdown",
   "id": "acd06191",
   "metadata": {
    "heading_collapsed": true
   },
   "source": [
    "## Create Tensorflow Dataset"
   ]
  },
  {
   "cell_type": "markdown",
   "id": "a2390fbe",
   "metadata": {
    "hidden": true
   },
   "source": [
    "### Define paths to positive and negative dataset"
   ]
  },
  {
   "cell_type": "code",
   "execution_count": null,
   "id": "34b7fd58",
   "metadata": {
    "hidden": true
   },
   "outputs": [],
   "source": [
    "positive=os.path.join(\"data\",\"Parsed_Capuchinbird_Clips\")\n",
    "negative=os.path.join(\"data\",\"Parsed_Not_Capuchinbird_Clips\")"
   ]
  },
  {
   "cell_type": "code",
   "execution_count": null,
   "id": "5e5b20eb",
   "metadata": {
    "hidden": true
   },
   "outputs": [],
   "source": [
    "negative"
   ]
  },
  {
   "cell_type": "markdown",
   "id": "0ff69aab",
   "metadata": {
    "hidden": true
   },
   "source": [
    "### Create tensorflow dataset"
   ]
  },
  {
   "cell_type": "code",
   "execution_count": null,
   "id": "f6c05e9d",
   "metadata": {
    "hidden": true
   },
   "outputs": [],
   "source": [
    "# list_files will give us a set of files as string inside of a tensorflow dataset format\n",
    "pos=tf.data.Dataset.list_files(positive+\"/*.wav\")\n",
    "neg=tf.data.Dataset.list_files(negative+\"/*.wav\")"
   ]
  },
  {
   "cell_type": "code",
   "execution_count": null,
   "id": "b78fd7c5",
   "metadata": {
    "hidden": true
   },
   "outputs": [],
   "source": [
    "print(neg)\n",
    "print(neg.as_numpy_iterator())\n",
    "print(neg.as_numpy_iterator().next())"
   ]
  },
  {
   "cell_type": "markdown",
   "id": "ed966a5e",
   "metadata": {
    "hidden": true
   },
   "source": [
    "### Add labels and combine positive and negative samples\n"
   ]
  },
  {
   "cell_type": "code",
   "execution_count": null,
   "id": "4a027587",
   "metadata": {
    "hidden": true
   },
   "outputs": [],
   "source": [
    "len(pos)"
   ]
  },
  {
   "cell_type": "code",
   "execution_count": null,
   "id": "06d509e2",
   "metadata": {
    "hidden": true
   },
   "outputs": [],
   "source": [
    "tf.ones(len(pos))"
   ]
  },
  {
   "cell_type": "code",
   "execution_count": null,
   "id": "4f2ccdb0",
   "metadata": {
    "hidden": true
   },
   "outputs": [],
   "source": [
    "positives=tf.data.Dataset.zip((pos,tf.data.Dataset.from_tensor_slices(tf.ones(len(pos)))))\n",
    "negatives=tf.data.Dataset.zip((neg,tf.data.Dataset.from_tensor_slices(tf.zeros(len(neg)))))\n",
    "data=positives.concatenate(negatives)"
   ]
  },
  {
   "cell_type": "code",
   "execution_count": null,
   "id": "149a16e7",
   "metadata": {
    "hidden": true
   },
   "outputs": [],
   "source": [
    "print(negatives.as_numpy_iterator().next())\n",
    "print(data.as_numpy_iterator().next())"
   ]
  },
  {
   "cell_type": "code",
   "execution_count": null,
   "id": "a10953ec",
   "metadata": {
    "hidden": true
   },
   "outputs": [],
   "source": [
    "data.shuffle(10000).as_numpy_iterator().next()"
   ]
  },
  {
   "cell_type": "markdown",
   "id": "2c645ce0",
   "metadata": {
    "heading_collapsed": true
   },
   "source": [
    "## Determine average length of capuchin calls"
   ]
  },
  {
   "cell_type": "markdown",
   "id": "1ba4d979",
   "metadata": {
    "hidden": true
   },
   "source": [
    "### Calculate wave cycle length"
   ]
  },
  {
   "cell_type": "code",
   "execution_count": null,
   "id": "58c5a7f6",
   "metadata": {
    "hidden": true
   },
   "outputs": [],
   "source": [
    "# Loop through the capuchin files and calculate how long each clip is\n",
    "lengths=[]\n",
    "\n",
    "for file in os.listdir(os.path.join(\"data\",\"Parsed_Capuchinbird_Clips\")):\n",
    "    tensor_wave=load_wav_16k_mono(os.path.join(\"data\",\"Parsed_Capuchinbird_Clips\",file)) #to wave form\n",
    "    lengths.append(len(tensor_wave))\n",
    "    "
   ]
  },
  {
   "cell_type": "code",
   "execution_count": null,
   "id": "bfc5ad5a",
   "metadata": {
    "hidden": true
   },
   "outputs": [],
   "source": [
    "# use os.listdir to get every single file\n",
    "for file in os.listdir(os.path.join(\"data\",\"Parsed_Capuchinbird_Clips\")):\n",
    "    print(file)"
   ]
  },
  {
   "cell_type": "code",
   "execution_count": null,
   "id": "8ed05e11",
   "metadata": {
    "hidden": true
   },
   "outputs": [],
   "source": [
    "lengths[:10]"
   ]
  },
  {
   "cell_type": "markdown",
   "id": "eee3dc29",
   "metadata": {
    "hidden": true
   },
   "source": [
    "### Calculate Mean, Min, Max"
   ]
  },
  {
   "cell_type": "code",
   "execution_count": null,
   "id": "d4c0143b",
   "metadata": {
    "hidden": true
   },
   "outputs": [],
   "source": [
    "mean=tf.math.reduce_mean(lengths)\n",
    "mean"
   ]
  },
  {
   "cell_type": "code",
   "execution_count": null,
   "id": "51c3af43",
   "metadata": {
    "hidden": true
   },
   "outputs": [],
   "source": [
    "max_length=tf.math.reduce_max(lengths)\n",
    "max_length"
   ]
  },
  {
   "cell_type": "code",
   "execution_count": null,
   "id": "998cbd99",
   "metadata": {
    "hidden": true
   },
   "outputs": [],
   "source": [
    "min_length=tf.math.reduce_min(lengths)\n",
    "min_length"
   ]
  },
  {
   "cell_type": "code",
   "execution_count": null,
   "id": "4491ce49",
   "metadata": {
    "hidden": true
   },
   "outputs": [],
   "source": [
    "# 16000 cycles per second\n",
    "# average = 54156\n",
    "avg_capuchinbirds_callclips=54156/16000\n",
    "avg_capuchinbirds_callclips"
   ]
  },
  {
   "cell_type": "code",
   "execution_count": null,
   "id": "2999f9e9",
   "metadata": {
    "hidden": true
   },
   "outputs": [],
   "source": [
    "max_capuchinbirds_callclips=80000/16000\n",
    "min_capuchinbirds_callclips=32000/16000\n",
    "max_capuchinbirds_callclips,min_capuchinbirds_callclips\n",
    "# the clips are between 2 seconds and 5 seconds"
   ]
  },
  {
   "cell_type": "markdown",
   "id": "738692f1",
   "metadata": {
    "heading_collapsed": true
   },
   "source": [
    "## Build preprocessing function to convert to spectrogram"
   ]
  },
  {
   "cell_type": "markdown",
   "id": "9ed033c1",
   "metadata": {
    "hidden": true
   },
   "source": [
    "### Build Proprocessing function"
   ]
  },
  {
   "cell_type": "code",
   "execution_count": null,
   "id": "1663a99c",
   "metadata": {
    "hidden": true
   },
   "outputs": [],
   "source": [
    "def preprocess(filepath, label):\n",
    "    wav=load_wav_16k_mono(filepath)\n",
    "    wav=wav[:48000]\n",
    "    zero_padding=tf.zeros([48000]-tf.shape(wav),dtype=tf.float32)\n",
    "    wav=tf.concat([zero_padding,wav],0)\n",
    "    spectrogram=tf.signal.stft(wav,frame_length=320,frame_step=32) # 320 & 32 are the standard numbers(i think)\n",
    "    spectrogram=tf.abs(spectrogram)\n",
    "    spectrogram=tf.expand_dims(spectrogram, axis=2) # shape=(1491, 257, 1)\n",
    "    return spectrogram,label\n",
    "    "
   ]
  },
  {
   "cell_type": "code",
   "execution_count": null,
   "id": "ca59f842",
   "metadata": {
    "hidden": true
   },
   "outputs": [],
   "source": [
    "filepath,label=positives.shuffle(buffer_size=2000).as_numpy_iterator().next()"
   ]
  },
  {
   "cell_type": "code",
   "execution_count": null,
   "id": "92d87d6b",
   "metadata": {
    "hidden": true
   },
   "outputs": [],
   "source": [
    "spectrogram,label=preprocess(filepath, label)"
   ]
  },
  {
   "cell_type": "code",
   "execution_count": null,
   "id": "e8274142",
   "metadata": {
    "hidden": true
   },
   "outputs": [],
   "source": [
    "spectrogram"
   ]
  },
  {
   "cell_type": "code",
   "execution_count": null,
   "id": "3fe3babb",
   "metadata": {
    "hidden": true
   },
   "outputs": [],
   "source": [
    "plt.figure(figsize=(30,20))\n",
    "plt.imshow(spectrogram)\n",
    "plt.show()"
   ]
  },
  {
   "cell_type": "code",
   "execution_count": null,
   "id": "14569c5b",
   "metadata": {
    "hidden": true
   },
   "outputs": [],
   "source": [
    "tf.transpose(spectrogram) # shape=(1, 257, 1491)\n",
    "tf.transpose(spectrogram)[0] # shape=(257, 1491)"
   ]
  },
  {
   "cell_type": "code",
   "execution_count": null,
   "id": "8c9ab60f",
   "metadata": {
    "hidden": true
   },
   "outputs": [],
   "source": [
    "plt.figure(figsize=(30,20))\n",
    "plt.imshow(tf.transpose(spectrogram)[0])\n",
    "plt.show()"
   ]
  },
  {
   "cell_type": "markdown",
   "id": "6574d316",
   "metadata": {
    "heading_collapsed": true
   },
   "source": [
    "## Create training and testing partitions"
   ]
  },
  {
   "cell_type": "markdown",
   "id": "87ef750f",
   "metadata": {
    "hidden": true
   },
   "source": [
    "### Create a Tensorflow Data Pipeline"
   ]
  },
  {
   "cell_type": "code",
   "execution_count": null,
   "id": "8e999e37",
   "metadata": {
    "hidden": true
   },
   "outputs": [],
   "source": [
    "#mchsbap\n",
    "data=data.map(preprocess)\n",
    "data=data.cache()\n",
    "data=data.shuffle(buffer_size=1000)\n",
    "data=data.batch(16)\n",
    "data=data.prefetch(8)"
   ]
  },
  {
   "cell_type": "code",
   "execution_count": null,
   "id": "0e0acb41",
   "metadata": {
    "hidden": true
   },
   "outputs": [],
   "source": [
    "len(data)"
   ]
  },
  {
   "cell_type": "markdown",
   "id": "9b3c3de5",
   "metadata": {
    "hidden": true
   },
   "source": [
    "### Splitting into training and testing partitions"
   ]
  },
  {
   "cell_type": "code",
   "execution_count": null,
   "id": "b3062286",
   "metadata": {
    "hidden": true
   },
   "outputs": [],
   "source": [
    "train=data.take(36)\n",
    "test=data.skip(36).take(15)"
   ]
  },
  {
   "cell_type": "markdown",
   "id": "0b39ab9e",
   "metadata": {
    "hidden": true
   },
   "source": [
    "### Test one batch"
   ]
  },
  {
   "cell_type": "code",
   "execution_count": null,
   "id": "cef86548",
   "metadata": {
    "hidden": true
   },
   "outputs": [],
   "source": [
    "samples, labels=train.as_numpy_iterator().next()"
   ]
  },
  {
   "cell_type": "code",
   "execution_count": null,
   "id": "52cbd12b",
   "metadata": {
    "hidden": true
   },
   "outputs": [],
   "source": [
    "labels"
   ]
  },
  {
   "cell_type": "code",
   "execution_count": null,
   "id": "a806dd44",
   "metadata": {
    "hidden": true
   },
   "outputs": [],
   "source": [
    "samples.shape"
   ]
  },
  {
   "cell_type": "markdown",
   "id": "c27e9f9c",
   "metadata": {
    "heading_collapsed": true
   },
   "source": [
    "## Build deep learning model"
   ]
  },
  {
   "cell_type": "markdown",
   "id": "85f6b18c",
   "metadata": {
    "hidden": true
   },
   "source": [
    "### Load Tensorflow Dependencies"
   ]
  },
  {
   "cell_type": "code",
   "execution_count": null,
   "id": "21bbb513",
   "metadata": {
    "hidden": true
   },
   "outputs": [],
   "source": [
    "from tensorflow.keras.models import Sequential\n",
    "from tensorflow.keras.layers import Conv2D, Dense, Flatten"
   ]
  },
  {
   "cell_type": "markdown",
   "id": "9fde9d67",
   "metadata": {
    "hidden": true
   },
   "source": [
    "### Build Sequential Model, Compile and View Summary"
   ]
  },
  {
   "cell_type": "code",
   "execution_count": null,
   "id": "9b96b3a2",
   "metadata": {
    "hidden": true
   },
   "outputs": [],
   "source": [
    "model=Sequential()\n",
    "model.add(Conv2D(16, (3,3), activation=\"relu\", input_shape=(1491,257,1)))\n",
    "model.add(Conv2D(16, (3,3), activation=\"relu\"))\n",
    "model.add(Flatten())\n",
    "model.add(Dense(128, activation=\"relu\"))\n",
    "model.add(Dense(1, activation=\"sigmoid\"))\n"
   ]
  },
  {
   "cell_type": "code",
   "execution_count": null,
   "id": "dd34b1d4",
   "metadata": {
    "hidden": true
   },
   "outputs": [],
   "source": [
    "model.compile(loss=\"BinaryCrossentropy\", metrics=[tf.keras.metrics.Recall(), tf.keras.metrics.Precision()], optimizer=\"Adam\")"
   ]
  },
  {
   "cell_type": "code",
   "execution_count": null,
   "id": "07b10c87",
   "metadata": {
    "hidden": true
   },
   "outputs": [],
   "source": [
    "model.summary()"
   ]
  },
  {
   "cell_type": "markdown",
   "id": "4bc60f71",
   "metadata": {
    "hidden": true
   },
   "source": [
    "### Fit model,view loss, KPI plots"
   ]
  },
  {
   "cell_type": "code",
   "execution_count": null,
   "id": "95f98fa4",
   "metadata": {
    "hidden": true
   },
   "outputs": [],
   "source": [
    "hist= model.fit(train, epochs=4, validation_data=test)"
   ]
  },
  {
   "cell_type": "code",
   "execution_count": null,
   "id": "bca9343f",
   "metadata": {
    "hidden": true
   },
   "outputs": [],
   "source": [
    "hist"
   ]
  },
  {
   "cell_type": "code",
   "execution_count": null,
   "id": "593a9ecd",
   "metadata": {
    "hidden": true
   },
   "outputs": [],
   "source": [
    "hist.history"
   ]
  },
  {
   "cell_type": "code",
   "execution_count": null,
   "id": "587c79eb",
   "metadata": {
    "hidden": true
   },
   "outputs": [],
   "source": [
    "plt.title(\"Loss\")\n",
    "plt.plot(hist.history[\"loss\"],\"r\")\n",
    "plt.plot(hist.history[\"val_loss\"],\"b\")\n",
    "pls.show()"
   ]
  },
  {
   "cell_type": "code",
   "execution_count": null,
   "id": "bdb7b69a",
   "metadata": {
    "hidden": true
   },
   "outputs": [],
   "source": [
    "plt.title(\"Precision\")\n",
    "plt.plot(hist.history[\"precision\"],\"r\")\n",
    "plt.plot(hist.history[\"val_precision\"],\"b\")\n",
    "plt.show()"
   ]
  },
  {
   "cell_type": "code",
   "execution_count": null,
   "id": "d4b2a1cb",
   "metadata": {
    "hidden": true
   },
   "outputs": [],
   "source": [
    "plt.title(\"Recall\")\n",
    "plt.plot(hist.history[\"recall\"],\"r\")\n",
    "plt.plot(hist.history[\"val_recall\"],\"b\")\n",
    "plt.show()"
   ]
  },
  {
   "cell_type": "markdown",
   "id": "327b3a3e",
   "metadata": {
    "heading_collapsed": true
   },
   "source": [
    "## Make a prediction on a single clip"
   ]
  },
  {
   "cell_type": "markdown",
   "id": "d0b89f89",
   "metadata": {
    "hidden": true
   },
   "source": [
    "### Get one batch and make a prediction"
   ]
  },
  {
   "cell_type": "code",
   "execution_count": null,
   "id": "7f478a8e",
   "metadata": {
    "hidden": true
   },
   "outputs": [],
   "source": [
    "X_test,y_test=test.as_numpy_iterator().next()"
   ]
  },
  {
   "cell_type": "code",
   "execution_count": null,
   "id": "6f08fe25",
   "metadata": {
    "hidden": true
   },
   "outputs": [],
   "source": [
    "yhat=model.predict(X_test)"
   ]
  },
  {
   "cell_type": "markdown",
   "id": "222199b5",
   "metadata": {
    "hidden": true
   },
   "source": [
    "### Convert Logits to Classes"
   ]
  },
  {
   "cell_type": "code",
   "execution_count": null,
   "id": "c592b022",
   "metadata": {
    "hidden": true
   },
   "outputs": [],
   "source": [
    "yhat=[1 if prediction >0.5 else 0 for prediction in yhat]"
   ]
  },
  {
   "cell_type": "markdown",
   "id": "9c032139",
   "metadata": {
    "heading_collapsed": true
   },
   "source": [
    "## Build Forest Parsing Functions"
   ]
  },
  {
   "cell_type": "markdown",
   "id": "121cd29c",
   "metadata": {
    "hidden": true
   },
   "source": [
    "### Load up MP3"
   ]
  },
  {
   "cell_type": "code",
   "execution_count": null,
   "id": "281f8422",
   "metadata": {
    "hidden": true
   },
   "outputs": [],
   "source": [
    "def load_mp3_16k_mono(filename):\n",
    "    \"\"\"Load a MP3 file, convert it to a float tensor,resample it to 16kHz single channel audio\n",
    "    \"\"\"\n",
    "    res=tfio.audio.AudioIOTensor(filename)\n",
    "    tensor=res.to_tensor()\n",
    "    tensor=tf.math.reduce_sum(tensor,axis=1)/2\n",
    "    sample_rate=res.rate\n",
    "    sample_rate=tf.cast(sample_rate,dtypes=tf.int64)\n",
    "    wav=tfio.audio.resample(tensor,rate_in=sample_rate,rate_out=16000)\n",
    "    return wav"
   ]
  },
  {
   "cell_type": "code",
   "execution_count": null,
   "id": "f31cbe25",
   "metadata": {
    "hidden": true
   },
   "outputs": [],
   "source": [
    "mp3=os.path.join(\"data\", \"Forest Recording\", \"recording_00.mp3\")"
   ]
  },
  {
   "cell_type": "code",
   "execution_count": null,
   "id": "7f425f2c",
   "metadata": {
    "hidden": true
   },
   "outputs": [],
   "source": [
    "wav=load_mp3_16k_mono(mp3)\n",
    "audio_slices=tf.keras.utils.timeseries_dataset_from_array(wav, wav, sequence_length=48000, sequence_stride=48000, batch_size=1)"
   ]
  },
  {
   "cell_type": "code",
   "execution_count": null,
   "id": "30325dd0",
   "metadata": {
    "hidden": true,
    "scrolled": true
   },
   "outputs": [],
   "source": [
    "samples,index=audio_slices.as_numpy_iterator().next()"
   ]
  },
  {
   "cell_type": "code",
   "execution_count": null,
   "id": "913b5190",
   "metadata": {
    "hidden": true,
    "scrolled": true
   },
   "outputs": [],
   "source": [
    "def preprocess_mp3(sample, index):\n",
    "    sample = sample[0]\n",
    "    zero_padding = tf.zeros([48000] - tf.shape(sample), dtype=tf.float32)\n",
    "    wav = tf.concat([zero_padding, sample],0)\n",
    "    spectrogram = tf.signal.stft(wav, frame_length=320, frame_step=32)\n",
    "    spectrogram = tf.abs(spectrogram)\n",
    "    spectrogram = tf.expand_dims(spectrogram, axis=2)\n",
    "    return spectrogram\n",
    "\n",
    "audio_slices = tf.keras.utils.timeseries_dataset_from_array(wav, wav, sequence_length=16000, sequence_stride=16000, batch_size=1)\n",
    "audio_slices = audio_slices.map(preprocess_mp3)\n",
    "audio_slices = audio_slices.batch(64)\n",
    "\n",
    "yhat = model.predict(audio_slices)\n",
    "yhat = [1 if prediction > 0.5 else 0 for prediction in yhat]"
   ]
  },
  {
   "cell_type": "code",
   "execution_count": null,
   "id": "3d2cd194",
   "metadata": {
    "hidden": true
   },
   "outputs": [],
   "source": [
    "from itertools import groupby\n",
    "\n",
    "yhat = [key for key, group in groupby(yhat)]\n",
    "calls = tf.math.reduce_sum(yhat).numpy()\n",
    "calls"
   ]
  },
  {
   "cell_type": "markdown",
   "id": "984abf14",
   "metadata": {
    "heading_collapsed": true
   },
   "source": [
    "## Make predictions"
   ]
  },
  {
   "cell_type": "code",
   "execution_count": null,
   "id": "d2bef547",
   "metadata": {
    "hidden": true
   },
   "outputs": [],
   "source": [
    "results = {}\n",
    "for file in os.listdir(os.path.join('data', 'Forest Recordings')):\n",
    "    FILEPATH = os.path.join('data','Forest Recordings', file)\n",
    "    \n",
    "    wav = load_mp3_16k_mono(FILEPATH)\n",
    "    audio_slices = tf.keras.utils.timeseries_dataset_from_array(wav, wav, sequence_length=48000, sequence_stride=48000, batch_size=1)\n",
    "    audio_slices = audio_slices.map(preprocess_mp3)\n",
    "    audio_slices = audio_slices.batch(64)\n",
    "    \n",
    "    yhat = model.predict(audio_slices)\n",
    "    \n",
    "    results[file] = yhat"
   ]
  },
  {
   "cell_type": "code",
   "execution_count": null,
   "id": "85b6d23a",
   "metadata": {
    "hidden": true
   },
   "outputs": [],
   "source": [
    "class_preds = {}\n",
    "for file, logits in results.items():\n",
    "    class_preds[file] = [1 if prediction > 0.99 else 0 for prediction in logits]\n",
    "class_preds"
   ]
  },
  {
   "cell_type": "code",
   "execution_count": null,
   "id": "d5b75700",
   "metadata": {
    "hidden": true
   },
   "outputs": [],
   "source": [
    "postprocessed = {}\n",
    "for file, scores in class_preds.items():\n",
    "    postprocessed[file] = tf.math.reduce_sum([key for key, group in groupby(scores)]).numpy()\n",
    "postprocessed"
   ]
  },
  {
   "cell_type": "markdown",
   "id": "6579c849",
   "metadata": {
    "heading_collapsed": true
   },
   "source": [
    "## Export results"
   ]
  },
  {
   "cell_type": "code",
   "execution_count": null,
   "id": "78befc75",
   "metadata": {
    "hidden": true
   },
   "outputs": [],
   "source": [
    "import csv\n",
    "with open('results.csv', 'w', newline='') as f:\n",
    "    writer = csv.writer(f, delimiter=',')\n",
    "    writer.writerow(['recording', 'capuchin_calls'])\n",
    "    for key, value in postprocessed.items():\n",
    "        writer.writerow([key, value])"
   ]
  }
 ],
 "metadata": {
  "kernelspec": {
   "display_name": "Python 3 (ipykernel)",
   "language": "python",
   "name": "python3"
  },
  "language_info": {
   "codemirror_mode": {
    "name": "ipython",
    "version": 3
   },
   "file_extension": ".py",
   "mimetype": "text/x-python",
   "name": "python",
   "nbconvert_exporter": "python",
   "pygments_lexer": "ipython3",
   "version": "3.8.12"
  },
  "toc": {
   "base_numbering": 1,
   "nav_menu": {},
   "number_sections": true,
   "sideBar": true,
   "skip_h1_title": false,
   "title_cell": "Table of Contents",
   "title_sidebar": "Contents",
   "toc_cell": false,
   "toc_position": {},
   "toc_section_display": true,
   "toc_window_display": false
  }
 },
 "nbformat": 4,
 "nbformat_minor": 5
}
